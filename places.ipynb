{
 "cells": [
  {
   "cell_type": "code",
   "execution_count": 1,
   "metadata": {},
   "outputs": [],
   "source": [
    "import os\n",
    "import re\n",
    "import requests\n",
    "from bs4 import BeautifulSoup"
   ]
  },
  {
   "cell_type": "code",
   "execution_count": 2,
   "metadata": {},
   "outputs": [],
   "source": [
    "# acessando a página principal\n",
    "url = \"http://127.0.0.1:8000/places\"\n",
    "requisicao = requests.get(url)\n",
    "\n",
    "hrefs = []\n",
    "if requisicao.status_code == 200:  # verificação de que a requisição foi bem sucedida\n",
    "    soup = BeautifulSoup(requisicao.text, 'html.parser')\n",
    "    for i in range(25): # passa por todas as páginas de index e acessa o link de cada uma\n",
    "        page_url = f\"{url}/default/index/{i}\"\n",
    "        page_requisicao = requests.get(page_url)\n",
    "        page_soup = BeautifulSoup(page_requisicao.text, 'html.parser')\n",
    "        # recuperando os links das páginas individuais dos países\n",
    "        links = page_soup.find_all('a', href=re.compile(r\"/places/default/view/.*-\\d+\"))\n",
    "        for link in links:\n",
    "            href = link.get('href')\n",
    "            hrefs.append(href)\n",
    "    \n",
    "    # salvando os links das páginas em uma pasta, criando se já não existir\n",
    "    if not os.path.exists('html_pages'):\n",
    "        os.makedirs('html_pages')\n",
    "    for href in hrefs:\n",
    "        full_url = f\"http://127.0.0.1:8000{href}\"\n",
    "        page_response = requests.get(full_url)\n",
    "        if page_response.status_code == 200:\n",
    "            file_name = href.split('/')[-1] + '.html'\n",
    "            file_path = os.path.join('html_pages', file_name)\n",
    "            with open(file_path, 'a', encoding='utf-8') as file:\n",
    "                file.write(page_response.text)\n",
    "else:\n",
    "    print(f\"Erro: {requisicao.status_code}\")"
   ]
  },
  {
   "cell_type": "code",
   "execution_count": null,
   "metadata": {},
   "outputs": [],
   "source": [
    "# adicionar a parte do csv"
   ]
  }
 ],
 "metadata": {
  "kernelspec": {
   "display_name": "Python 3",
   "language": "python",
   "name": "python3"
  },
  "language_info": {
   "codemirror_mode": {
    "name": "ipython",
    "version": 3
   },
   "file_extension": ".py",
   "mimetype": "text/x-python",
   "name": "python",
   "nbconvert_exporter": "python",
   "pygments_lexer": "ipython3",
   "version": "3.12.4"
  }
 },
 "nbformat": 4,
 "nbformat_minor": 2
}
