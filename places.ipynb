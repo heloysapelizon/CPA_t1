{
 "cells": [
  {
   "cell_type": "markdown",
   "metadata": {},
   "source": [
    "# Trabalho 1 - Coleta, Preparação e Análise de Dados\n",
    "\n",
    "## Webscrapping em servidor local\n",
    "\n",
    "### Objetivos da tarefa:\n",
    "\n",
    "- Faça um crawler capaz de navegar por todas as páginas de países e baixar seus\n",
    "  HTMLS.\n",
    "- Faça scraping dos htmls baixados e armazene os seguintes dados dos países em\n",
    "  um arquivo CSV:\n",
    "\n",
    "      1- Nome do país (campo country)\n",
    "\n",
    "      2- Nome da capital do país (campo capital)\n",
    "\n",
    "      3- Nome da moeda do país (campo Currency Name)\n",
    "\n",
    "      4- Nome do Continente (Atenção: é o nome do continente e não a sigla!)\n",
    "\n",
    "      Salvar uma coluna extra no csv contendo um timestamp do momento no qual os dados foram obtidos.\n",
    "\n",
    "- Faça um crawler que monitore as páginas de países e procure por atualizações.\n",
    "  Caso algum registro tenha sido atualizado esse deve ser atualizado no arquivo CSV, caso\n",
    "  contrário manter a versão anterior.\n"
   ]
  },
  {
   "cell_type": "code",
   "execution_count": 1,
   "metadata": {},
   "outputs": [],
   "source": [
    "import os\n",
    "import re\n",
    "import csv\n",
    "import requests\n",
    "from datetime import datetime\n",
    "from bs4 import BeautifulSoup"
   ]
  },
  {
   "cell_type": "markdown",
   "metadata": {},
   "source": [
    "### Parte 1: baixando as páginas html dos países\n"
   ]
  },
  {
   "cell_type": "code",
   "execution_count": 2,
   "metadata": {},
   "outputs": [],
   "source": [
    "# acessando a página principal\n",
    "url = \"http://127.0.0.1:8000/places\"\n",
    "requisicao = requests.get(url)\n",
    "\n",
    "hrefs = []\n",
    "if requisicao.status_code == 200:  # verificação de que a requisição foi bem sucedida\n",
    "    soup = BeautifulSoup(requisicao.text, 'html.parser')\n",
    "    for i in range(25): # passa por todas as páginas de index e acessa o link de cada uma\n",
    "        page_url = f\"{url}/default/index/{i}\"\n",
    "        page_requisicao = requests.get(page_url)\n",
    "        page_soup = BeautifulSoup(page_requisicao.text, 'html.parser')\n",
    "        # recuperando os links das páginas individuais dos países\n",
    "        links = page_soup.find_all('a', href=re.compile(r\"/places/default/view/.*-\\d+\"))\n",
    "        for link in links:\n",
    "            href = link.get('href')\n",
    "            hrefs.append(href)\n",
    "    \n",
    "    # salvando os links das páginas em uma pasta, criando se já não existir\n",
    "    if not os.path.exists('html_pages'):\n",
    "        os.makedirs('html_pages')\n",
    "    for href in hrefs:\n",
    "        full_url = f\"http://127.0.0.1:8000{href}\"\n",
    "        page_response = requests.get(full_url)\n",
    "        if page_response.status_code == 200:\n",
    "            file_name = href.split('/')[-1] + '.html'\n",
    "            file_path = os.path.join('html_pages', file_name)\n",
    "            with open(file_path, 'a', encoding='utf-8') as file:\n",
    "                file.write(page_response.text)\n",
    "else:\n",
    "    print(f\"Erro: {requisicao.status_code}\")"
   ]
  },
  {
   "cell_type": "markdown",
   "metadata": {},
   "source": [
    "### Parte 2: salvando os dados da página para um csv\n"
   ]
  },
  {
   "cell_type": "code",
   "execution_count": 5,
   "metadata": {},
   "outputs": [],
   "source": [
    "import os\n",
    "import csv\n",
    "from datetime import datetime\n",
    "from bs4 import BeautifulSoup\n",
    "\n",
    "html_dir = 'html_pages'\n",
    "# dicionário para converter siglas dos continentes para o nome inteiro\n",
    "continent_dict = {\n",
    "    'AF': 'Africa',\n",
    "    'AN': 'Antarctica',\n",
    "    'AS': 'Asia',\n",
    "    'EU': 'Europe',\n",
    "    'NA': 'North America',\n",
    "    'OC': 'Oceania',\n",
    "    'SA': 'South America'\n",
    "}\n",
    "for filename in os.listdir(html_dir):\n",
    "    if filename.endswith('.html'):\n",
    "        # encontra as páginas dos países\n",
    "        filepath = os.path.join(html_dir, filename)\n",
    "        \n",
    "        with open(filepath, 'r', encoding='utf-8') as html_file:\n",
    "            # procurando os atributos nos source das páginas\n",
    "            soup = BeautifulSoup(html_file, 'html.parser')\n",
    "            country = soup.find(id='places_country__row').find(class_='w2p_fw').text\n",
    "            capital = soup.find(id='places_capital__row').find(class_='w2p_fw').text\n",
    "            currency_name = soup.find(id='places_currency_name__row').find(class_='w2p_fw').text\n",
    "            continent_abbr = soup.find(id='places_continent__row').find(class_='w2p_fw').find('a').text\n",
    "            continent = continent_dict.get(continent_abbr, continent_abbr) # converte da abreviação dos continentes para o nome completo\n",
    "            # adicionar o horário que os dados foram coletados\n",
    "            timestamp = datetime.now().strftime('%Y-%m-%d %H:%M:%S')\n",
    "            \n",
    "            # inicializando o arquivo csv\n",
    "            with open(csv_file, mode='w', newline='') as file:\n",
    "                writer = csv.writer(file)\n",
    "                writer.writerow(['Country', 'Capital', 'Currency Name', 'Continent', 'Timestamp'])\n",
    "                \n",
    "            # escrever no csv\n",
    "            csv_file = 'places.csv'\n",
    "            with open(csv_file, mode='a', newline='') as file:\n",
    "                writer = csv.writer(file)\n",
    "                writer.writerow([country, capital, currency_name, continent, timestamp])"
   ]
  }
 ],
 "metadata": {
  "kernelspec": {
   "display_name": "Python 3",
   "language": "python",
   "name": "python3"
  },
  "language_info": {
   "codemirror_mode": {
    "name": "ipython",
    "version": 3
   },
   "file_extension": ".py",
   "mimetype": "text/x-python",
   "name": "python",
   "nbconvert_exporter": "python",
   "pygments_lexer": "ipython3",
   "version": "3.12.4"
  }
 },
 "nbformat": 4,
 "nbformat_minor": 2
}
