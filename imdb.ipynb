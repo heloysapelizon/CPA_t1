{
 "cells": [
  {
   "cell_type": "markdown",
   "metadata": {},
   "source": [
    "# Trabalho 1 - Coleta, Preparação e Análise de Dados\n",
    "\n",
    "## Webscrapping em ambiente real\n",
    "\n",
    "### Objetivos da tarefa:\n",
    "\n",
    "- Faça scraping para obter os 250 filmes com as maiores avaliações do IMDB. Devem\n",
    "  ser obtidos: Título, Duração, url do poster e nota imdb.\n",
    "\n",
    "- Faça scraping das páginas específicas dos 250 filmes obtidos no item anterior.\n",
    "  Obtenha dessa página a popularidade e a listagem do elenco principal (incluindo nome\n",
    "  do ator/atriz e da personagem).\n",
    "\n",
    "- Salve as informações obtidas em arquivo json\n"
   ]
  },
  {
   "cell_type": "code",
   "execution_count": 158,
   "metadata": {},
   "outputs": [],
   "source": [
    "# imports\n",
    "import re\n",
    "import json\n",
    "from bs4 import BeautifulSoup\n",
    "from dataclasses import field\n",
    "from dataclasses import dataclass\n",
    "\n",
    "from selenium import webdriver\n",
    "from selenium.webdriver.common.by import By\n",
    "from selenium.common.exceptions import NoSuchElementException"
   ]
  },
  {
   "cell_type": "code",
   "execution_count": 159,
   "metadata": {},
   "outputs": [],
   "source": [
    "# criando o driver e o site do imdb\n",
    "driver = webdriver.Chrome()\n",
    "url = 'https://www.imdb.com'\n",
    "\n",
    "driver.get(url)"
   ]
  },
  {
   "cell_type": "code",
   "execution_count": 160,
   "metadata": {},
   "outputs": [],
   "source": [
    "# clicando no menu lateral\n",
    "menu = driver.find_element(By.XPATH, r\"//*[@id='imdbHeader-navDrawerOpen']\")\n",
    "menu.click()"
   ]
  },
  {
   "cell_type": "code",
   "execution_count": 161,
   "metadata": {},
   "outputs": [],
   "source": [
    "# entrando na página dos 250 melhores filmes\n",
    "top_250 = driver.find_element(By.LINK_TEXT, r'Top 250 Movies')\n",
    "url_top250 = top_250.get_attribute(\"href\")\n",
    "driver.get(url_top250)"
   ]
  },
  {
   "cell_type": "code",
   "execution_count": 162,
   "metadata": {},
   "outputs": [
    {
     "name": "stdout",
     "output_type": "stream",
     "text": [
      "1. The Shawshank Redemption\n",
      "1994\n",
      "2h 22m\n",
      "R\n",
      "9.3\n",
      " (2.9M)\n",
      "Rate\n"
     ]
    }
   ],
   "source": [
    "# pega as tags de cada filme na página\n",
    "tag_ul = driver.find_element(By.XPATH, r'//*[@id=\"__next\"]/main/div/div[3]/section/div/div[2]/div/ul')\n",
    "movies_list = tag_ul.find_elements(By.TAG_NAME, \"li\")\n",
    "    \n",
    "# exemplo de como é o texto de cada variável\n",
    "print(movies_list[0].text)"
   ]
  },
  {
   "cell_type": "code",
   "execution_count": 163,
   "metadata": {},
   "outputs": [],
   "source": [
    "# classe que monta a estrutura de dados para armazenar um filme\n",
    "@dataclass\n",
    "class Movie:\n",
    "    title: str\n",
    "    year: int\n",
    "    duration: int #duração em minutos\n",
    "    poster_url: str\n",
    "    classification: str\n",
    "    score: float\n",
    "    popularity: float\n",
    "    cast: list[str] = field(default_factory=list)\n",
    "\n",
    "pages = []\n",
    "# método que passa por cada tag de filme na página da lista e cria um objeto Movie\n",
    "def cria_filme(movie_tag):\n",
    "    html = driver.page_source\n",
    "    soup = BeautifulSoup(html, 'html.parser')\n",
    "    \n",
    "    title = movie_tag.find_element(By.CLASS_NAME, \"ipc-title__text\").text # pegando o texto de classe \"title\"\n",
    "    title = re.match(r'^\\d+\\. (.*)', title).group(1) # removendo o índice antes do nome do filme\n",
    "    \n",
    "    year = int(movie_tag.find_element(By.XPATH, r'./div[2]/div/div/div[2]/span[1]').text) # procura o ano do filme pelo caminho\n",
    "    \n",
    "    # procurando o texto da duração do filme e converte para minutos\n",
    "    time = re.match(r'(\\d+)h (\\d+)m', movie_tag.text.split('\\n')[2])\n",
    "    duration = int(time.group(1)) * 60 + int(time.group(2)) if time else None\n",
    "    \n",
    "    # usando o soup, encontrando a nota do filme\n",
    "    score_tag = soup.find('span', {'data-testid' : 'ratingGroup--imdb-rating'})\n",
    "    score = score_tag.find('span', class_='ipc-rating-star--rating').text\n",
    "    \n",
    "    url = movie_tag.find_element(By.XPATH, \".//div[2]/img\").get_attribute(\"src\") # guarda o link do poster do filme\n",
    "    \n",
    "    # encontrando a string de classificação do filme, e se não encontra, atribui o valor \"indisponível\"\n",
    "    classification_tag = movie_tag.find_element(By.CLASS_NAME, \"sc-b189961a-7\")\n",
    "    try:\n",
    "        classification_tag = classification_tag.find_element(By.XPATH, \".//span[contains(@class, 'cli-title-metadata-item')][3]\")\n",
    "    except NoSuchElementException:\n",
    "        classification_tag = None\n",
    "    classification = classification_tag.text if classification_tag else \"Unavailable\"\n",
    "    \n",
    "    # guarda o link da página do filme numa variável global\n",
    "    link = movie_tag.find_element(By.CLASS_NAME, \"ipc-title-link-wrapper\").get_attribute(\"href\")\n",
    "    pages.append(link)\n",
    "        \n",
    "    return Movie(title, year, duration, url, classification, score, None, None)"
   ]
  },
  {
   "cell_type": "code",
   "execution_count": 164,
   "metadata": {},
   "outputs": [],
   "source": [
    "# segunda parte da tarefa: iterando sobre a página de cada filme\n",
    "def movie_page_info(url):\n",
    "    driver.get(url) # vai para a página do filme e cria um objeto soup\n",
    "    html_content = driver.page_source\n",
    "    soup = BeautifulSoup(html_content, 'html.parser')\n",
    "    \n",
    "    popularity_tag = soup.find('div', {'data-testid': 'hero-rating-bar__popularity__score'}) # encontra o número de popularidade\n",
    "    popularity = popularity_tag.text if popularity_tag else None\n",
    "    \n",
    "    # guarda os atores principais do filme em uma lista\n",
    "    cast_tag = soup.find('section', {'data-testid': 'title-cast'})\n",
    "    actors = []\n",
    "    actor_tags = cast_tag.find_all('a', {'data-testid': 'title-cast-item__actor'})\n",
    "    for tag in actor_tags:\n",
    "        actors.append(tag.text)\n",
    "        \n",
    "    return popularity, actors"
   ]
  },
  {
   "cell_type": "code",
   "execution_count": 165,
   "metadata": {},
   "outputs": [],
   "source": [
    "movies = []\n",
    "# cria uma lista com os objetos Movie\n",
    "for movie_tag in movies_list:\n",
    "    movie = cria_filme(movie_tag)\n",
    "    movies.append(movie)\n",
    "\n",
    "# da lista, adiciona os atributos adicionais aos objetos\n",
    "for i, movie in enumerate(movies):\n",
    "    movie.popularity, movie.cast = movie_page_info(pages[i])"
   ]
  },
  {
   "cell_type": "code",
   "execution_count": 166,
   "metadata": {},
   "outputs": [],
   "source": [
    "# converte os items da lista em um dicionário e, por fim, em um arquivo.json\n",
    "dictionary = []\n",
    "for movie in movies:\n",
    "    dictionary.append(movie.__dict__)\n",
    "with open('top250_movies.json', 'w') as file:\n",
    "    json.dump(dictionary, file,ensure_ascii=False, indent=4)"
   ]
  }
 ],
 "metadata": {
  "kernelspec": {
   "display_name": "base",
   "language": "python",
   "name": "python3"
  },
  "language_info": {
   "codemirror_mode": {
    "name": "ipython",
    "version": 3
   },
   "file_extension": ".py",
   "mimetype": "text/x-python",
   "name": "python",
   "nbconvert_exporter": "python",
   "pygments_lexer": "ipython3",
   "version": "3.12.5"
  }
 },
 "nbformat": 4,
 "nbformat_minor": 2
}
